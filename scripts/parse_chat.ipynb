{
 "cells": [
  {
   "cell_type": "code",
   "execution_count": 17,
   "id": "29d8918e-3e9c-4818-81c6-cd84fb7ef85e",
   "metadata": {},
   "outputs": [],
   "source": [
    "import os\n",
    "import numpy as np\n",
    "import pandas as pd\n",
    "import pyarrow as pa\n",
    "import pyarrow.parquet as pq\n",
    "import re\n",
    "import zipfile\n",
    "\n",
    "from datetime import datetime"
   ]
  },
  {
   "cell_type": "markdown",
   "id": "7aeb1eea-f814-4bee-88a3-24477584186c",
   "metadata": {},
   "source": [
    "## Extract text data from zip file"
   ]
  },
  {
   "cell_type": "code",
   "execution_count": 2,
   "id": "685d2c90-e94a-4bc9-ae04-f3b792b37864",
   "metadata": {},
   "outputs": [],
   "source": [
    "if not os.path.isfile('../data/_chat.txt'):\n",
    "    with zipfile.ZipFile('../data/WhatsApp Chat - Entrenos M-J 13-15.zip') as myzip:\n",
    "        myzip.extract('_chat.txt', path='../data')\n",
    "\n",
    "chat_lines = []\n",
    "\n",
    "with open('../data/_chat.txt', mode='r', encoding='utf8') as chat:\n",
    "    chat_lines = chat.readlines()"
   ]
  },
  {
   "cell_type": "code",
   "execution_count": 3,
   "id": "aa2e0d42-8ca4-48b3-83f0-b29c91e821ce",
   "metadata": {},
   "outputs": [],
   "source": [
    "def parse_line(line):\n",
    "    message_pattern = r'\\[(\\d{1,2}/\\d{1,2}/\\d{2}, \\d{2}:\\d{2}:\\d{2})\\] (.+?): (.+)'\n",
    "    match = re.match(message_pattern, line)\n",
    "    if match:\n",
    "        timestamp_str = match.group(1)\n",
    "        timestamp = datetime.strptime(timestamp_str, '%d/%m/%y, %H:%M:%S')\n",
    "        sender = match.group(2)\n",
    "        message = match.group(3).replace('\\u200e', '')\n",
    "        return timestamp, sender, message\n",
    "    return None, None, line"
   ]
  },
  {
   "cell_type": "markdown",
   "id": "b8b244a4-2be5-4adf-b705-65fe6b692932",
   "metadata": {},
   "source": [
    "## Parse text lines into messages"
   ]
  },
  {
   "cell_type": "code",
   "execution_count": 15,
   "id": "132166ad-723b-482d-a66c-8f50f53c1379",
   "metadata": {},
   "outputs": [],
   "source": [
    "timestamps = []\n",
    "senders = []\n",
    "messages = []\n",
    "for line in chat_lines:\n",
    "    timestamp, sender, message = parse_line(line)\n",
    "    if timestamp:\n",
    "        timestamps.append(timestamp)\n",
    "        senders.append(sender)\n",
    "        messages.append(message)\n",
    "    else:\n",
    "        messages[-1] += message\n",
    "\n",
    "df = pd.DataFrame({'timestamp': timestamps, 'sender': senders, 'message': messages})"
   ]
  },
  {
   "cell_type": "markdown",
   "id": "091619ba-067f-4978-9e8b-1a87654ea06e",
   "metadata": {},
   "source": [
    "## Decorate data to facilitate querying"
   ]
  },
  {
   "cell_type": "code",
   "execution_count": 26,
   "id": "bcfaa133-563a-467a-8ce7-457f217bcbc1",
   "metadata": {},
   "outputs": [],
   "source": [
    "from unidecode import unidecode\n",
    "from math import ceil\n",
    "def week_of_month(dt):\n",
    "    \"\"\" Returns the week of the month for the specified date.\n",
    "    \"\"\"\n",
    "    first_day = dt.replace(day=1)\n",
    "\n",
    "    dom = dt.day\n",
    "    adjusted_dom = dom + first_day.weekday()\n",
    "\n",
    "    return int(ceil(adjusted_dom/7.0))"
   ]
  },
  {
   "cell_type": "code",
   "execution_count": 23,
   "id": "7f7b2857-f577-40f9-9f19-8962199d1057",
   "metadata": {},
   "outputs": [],
   "source": [
    "df['newline_count'] = df['message'].str.count('\\n').add(1)"
   ]
  },
  {
   "cell_type": "code",
   "execution_count": 27,
   "id": "9d0079d9-0ac4-4135-ad34-fe63682a44a8",
   "metadata": {},
   "outputs": [],
   "source": [
    "df['week_of_month'] = df['timestamp'].apply(week_of_month)"
   ]
  },
  {
   "cell_type": "code",
   "execution_count": 28,
   "id": "5f9b6f8d-ab8e-40f2-b31e-c979dccecd11",
   "metadata": {},
   "outputs": [],
   "source": [
    "df['day_of_week'] = df['timestamp'].apply(lambda x: x.day_of_week)"
   ]
  },
  {
   "cell_type": "markdown",
   "id": "a79c0cc5-54f9-4eb3-a6bf-597c2edcd70e",
   "metadata": {},
   "source": [
    "## Save data frame to a parquet file"
   ]
  },
  {
   "cell_type": "code",
   "execution_count": 29,
   "id": "97603d48-fcbb-4c8a-9342-42842c13586c",
   "metadata": {},
   "outputs": [],
   "source": [
    "table = pa.Table.from_pandas(df)\n",
    "pq.write_table(table, '../data/chat.parquet')"
   ]
  }
 ],
 "metadata": {
  "kernelspec": {
   "display_name": "Python 3 (ipykernel)",
   "language": "python",
   "name": "python3"
  },
  "language_info": {
   "codemirror_mode": {
    "name": "ipython",
    "version": 3
   },
   "file_extension": ".py",
   "mimetype": "text/x-python",
   "name": "python",
   "nbconvert_exporter": "python",
   "pygments_lexer": "ipython3",
   "version": "3.8.10"
  }
 },
 "nbformat": 4,
 "nbformat_minor": 5
}
